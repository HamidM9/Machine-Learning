{
  "metadata": {
    "language_info": {
      "codemirror_mode": {
        "name": "python",
        "version": 3
      },
      "file_extension": ".py",
      "mimetype": "text/x-python",
      "name": "python",
      "nbconvert_exporter": "python",
      "pygments_lexer": "ipython3",
      "version": "3.8"
    },
    "kernelspec": {
      "name": "python",
      "display_name": "Python (Pyodide)",
      "language": "python"
    }
  },
  "nbformat_minor": 4,
  "nbformat": 4,
  "cells": [
    {
      "cell_type": "code",
      "source": "from sympy import symbols , diff\nimport numpy as np\nfrom math import log",
      "metadata": {
        "trusted": true
      },
      "execution_count": 10,
      "outputs": []
    },
    {
      "cell_type": "code",
      "source": "def f(x, y):\n    r = 3**(-x**2 - y**2)\n    return 1 / (r + 1)",
      "metadata": {
        "trusted": true
      },
      "execution_count": 2,
      "outputs": []
    },
    {
      "cell_type": "code",
      "source": "a, b = symbols('x, y')\nprint('Our cost function f(x, y) is: ', f(a, b))\nprint('Partial derivative wrt x is: ', diff(f(a, b), b))\nprint('Value of f(x,y) at x=1.8 y=1.0 is: ', \n      f(a, b).evalf(subs={a:1.8, b:1.0})) # Python Dictionary\nprint('Value of partial derivative wrt x: ', diff(f(a, b), a).evalf(subs={a:1.8, b:1.0}))",
      "metadata": {
        "trusted": true
      },
      "execution_count": 3,
      "outputs": [
        {
          "name": "stdout",
          "text": "Our cost function f(x, y) is:  1/(3**(-x**2 - y**2) + 1)\nPartial derivative wrt x is:  2*3**(-x**2 - y**2)*y*log(3)/(3**(-x**2 - y**2) + 1)**2\nValue of f(x,y) at x=1.8 y=1.0 is:  0.990604794032582\nValue of partial derivative wrt x:  0.0368089716197505\n",
          "output_type": "stream"
        }
      ]
    },
    {
      "cell_type": "code",
      "source": "#Setup\nmax_iter = 500\nmultiplier = 0.1\nparams = np.array([1.8, 1.0])",
      "metadata": {
        "trusted": true
      },
      "execution_count": 8,
      "outputs": []
    },
    {
      "cell_type": "code",
      "source": "for n in  range(max_iter):\n    gradient_x = diff(f(a, b), a).evalf(subs={a:params[0], b:params[1]})\n    gradient_y = diff(f(a, b), b).evalf(subs={a:params[0], b:params[1]})\n    gradients = np.array([gradient_x, gradient_y])\n    params = params - multiplier*gradients\n    \n#Results\nprint('Values in gradient array', gradients)\nprint('Minimum occurs at x value of: ', params[0])\nprint('Minimum occurs at y value of: ', params[1])\nprint('The cost is: ', f(params[0], params[1]))",
      "metadata": {
        "trusted": true
      },
      "execution_count": 9,
      "outputs": [
        {
          "name": "stdout",
          "text": "Values in gradient array [2.01013037525579e-11 1.11673909736433e-11]\nMinimum occurs at x value of:  3.45838599885832e-11\nMinimum occurs at y value of:  1.92132555492129e-11\nThe cost is:  0.500000000000000\n",
          "output_type": "stream"
        }
      ]
    },
    {
      "cell_type": "code",
      "source": "",
      "metadata": {},
      "execution_count": null,
      "outputs": []
    },
    {
      "cell_type": "markdown",
      "source": "# Partial Derivative as Functions\nHere I do not use sympy for comparison reasons",
      "metadata": {}
    },
    {
      "cell_type": "code",
      "source": "def fpx(x, y):\n    r = 3**(-x**2 - y**2)\n    return 2*x*log(3)*r / (r + 1)**2\n\ndef fpy(x, y):\n    r = 3**(-x**2 - y**2)\n    return 2*y*log(3)*r / (r + 1)**2",
      "metadata": {
        "trusted": true
      },
      "execution_count": 11,
      "outputs": []
    },
    {
      "cell_type": "code",
      "source": "#Setup\nmax_iter = 500\nmultiplier = 0.1\nparams = np.array([1.8, 1.0])\nfor n in  range(max_iter):\n    gradient_x = fpx(params[0], params[1])         \n    gradient_y = fpy(params[0], params[1]) \n    gradients = np.array([gradient_x, gradient_y])\n    params = params - multiplier*gradients\n    \n#Results\nprint('Values in gradient array', gradients)\nprint('Minimum occurs at x value of: ', params[0])\nprint('Minimum occurs at y value of: ', params[1])\nprint('The cost is: ', f(params[0], params[1]))",
      "metadata": {
        "trusted": true
      },
      "execution_count": 13,
      "outputs": [
        {
          "name": "stdout",
          "text": "Values in gradient array [2.01013038e-11 1.11673910e-11]\nMinimum occurs at x value of:  3.458385998858304e-11\nMinimum occurs at y value of:  1.9213255549212797e-11\nThe cost is:  0.5\n",
          "output_type": "stream"
        }
      ]
    },
    {
      "cell_type": "code",
      "source": "",
      "metadata": {},
      "execution_count": null,
      "outputs": []
    }
  ]
}