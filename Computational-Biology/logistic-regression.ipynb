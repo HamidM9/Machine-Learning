{
  "metadata": {
    "language_info": {
      "codemirror_mode": {
        "name": "python",
        "version": 3
      },
      "file_extension": ".py",
      "mimetype": "text/x-python",
      "name": "python",
      "nbconvert_exporter": "python",
      "pygments_lexer": "ipython3",
      "version": "3.8"
    },
    "kernelspec": {
      "name": "python",
      "display_name": "Python (Pyodide)",
      "language": "python"
    }
  },
  "nbformat_minor": 4,
  "nbformat": 4,
  "cells": [
    {
      "cell_type": "code",
      "source": "import pandas as pd\n\n#appending each row of <Compendium_Cancer_Genes> to <cancer_gene_list>\nfile_path = 'Compendium_Cancer_Genes.txt'\n\ncancer_gene_list = []\n\nwith open(file_path, 'r') as file:\n    for line in file:\n        cleaned_line = line.strip()\n        cancer_gene_list.append(cleaned_line)\n\n# Extract each row of <sample_label.txt> as a list\nfile_path = 'samples_labels.txt'\n\nrows_list = []\nwith open(file_path, 'r') as file:\n    for line in file:\n        elements = line.strip().split(' ')\n        rows_list.append(elements)\n\n# Create a dictionary <case_dict> which the ids are cases and values are mutated genes\nfile_path = 'snvs.csv'\n\ncase_dict = {}\n\nwith open(file_path, 'r') as file:\n    for line in file:\n        parts = line.strip().split(';')\n        if len(parts) >= 2:\n            # The first part is the id (key)\n            id_key = parts[0].strip()\n            values = []\n            for value in parts[1:]:\n                if value.strip() != '':\n                    values.append(value.strip())\n            case_dict[id_key] = values\ncases = list(case_dict.keys())\n\n# Create an empty DataFrame filled with zeros\ndataset = pd.DataFrame(0, columns=cancer_gene_list, index=cases)\n\n\nfor case in cases:\n    gene_list = case_dict.get(case, [])\n    \n    \n    if case in dataset.index:\n        # Loop through the list of genes (features) and update each one to 1\n        for gene_name in gene_list:\n            if gene_name in dataset.columns:\n                dataset.loc[case, gene_name] = 1\n\ndataset['cancer_type'] = 'xxx'\n\n# Iterate through rows_list to update the 'cancer_type' column\nfor row in rows_list:\n    case_name = row[0]\n    cancer_type = row[1]\n    \n    # Check if the case_name exists in the dataset\n    if case_name in dataset.index:\n        dataset.at[case_name, 'cancer_type'] = cancer_type\n\n\nmutated_dataset_filename = 'mutated_dataset.csv'\ndataset.to_csv(mutated_dataset_filename)\n\nprint(\"Done\")\n",
      "metadata": {
        "trusted": true
      },
      "execution_count": 1,
      "outputs": [
        {
          "name": "stdout",
          "text": "Done\n",
          "output_type": "stream"
        }
      ]
    },
    {
      "cell_type": "code",
      "source": "import pandas as pd\nfrom sklearn.model_selection import train_test_split\nfrom sklearn.preprocessing import LabelEncoder\nfrom sklearn.linear_model import LogisticRegression\nfrom sklearn.metrics import accuracy_score\n\ndataset_filename = 'mutated_dataset.csv'  # Update with your dataset filename\ndataset = pd.read_csv(dataset_filename, index_col=0)\n\n\nX = dataset.iloc[:, :-1]  \ny = dataset.iloc[:, -1]  \n\n# Encode the cancer_type labels into numeric values\nlabel_encoder = LabelEncoder()\ny_encoded = label_encoder.fit_transform(y)\n\nX_train, X_test, y_train, y_test = train_test_split(X, y_encoded, test_size=0.2, random_state=42)\n\nmodel = LogisticRegression()\nmodel.fit(X_train, y_train)\n\ny_pred = model.predict(X_test)\n\naccuracy = accuracy_score(y_test, y_pred)\n\nprint(f\"Accuracy: {accuracy}\")\n",
      "metadata": {
        "trusted": true
      },
      "execution_count": 16,
      "outputs": [
        {
          "name": "stdout",
          "text": "Accuracy: 0.657556270096463\n",
          "output_type": "stream"
        }
      ]
    },
    {
      "cell_type": "code",
      "source": "len(y_pred_original)",
      "metadata": {
        "trusted": true
      },
      "execution_count": 14,
      "outputs": [
        {
          "execution_count": 14,
          "output_type": "execute_result",
          "data": {
            "text/plain": "622"
          },
          "metadata": {}
        }
      ]
    },
    {
      "cell_type": "code",
      "source": "len(X_train)",
      "metadata": {
        "trusted": true
      },
      "execution_count": 8,
      "outputs": [
        {
          "execution_count": 8,
          "output_type": "execute_result",
          "data": {
            "text/plain": "2488"
          },
          "metadata": {}
        }
      ]
    },
    {
      "cell_type": "code",
      "source": "",
      "metadata": {},
      "execution_count": null,
      "outputs": []
    }
  ]
}